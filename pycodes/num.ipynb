{
 "cells": [
  {
   "cell_type": "code",
   "execution_count": 29,
   "id": "fd9fb65b",
   "metadata": {},
   "outputs": [],
   "source": [
    "import numpy as np "
   ]
  },
  {
   "cell_type": "code",
   "execution_count": 30,
   "id": "ebfa6397",
   "metadata": {},
   "outputs": [
    {
     "data": {
      "text/plain": [
       "2.2894284851066664e-09"
      ]
     },
     "execution_count": 30,
     "metadata": {},
     "output_type": "execute_result"
    }
   ],
   "source": [
    "(1.2*10**(-26))**(1/3)"
   ]
  },
  {
   "cell_type": "code",
   "execution_count": 31,
   "id": "819225c8",
   "metadata": {},
   "outputs": [],
   "source": [
    "x_arr = np.array([0.84375, 0.84375,0.84375,0.8125])\n",
    "y_arr = np.array([0.3125,0.3125,0.28125,0.3125])\n",
    "z_arr = np.array([0.15625,0.21875,0.1875,0.1875])\n",
    "\n",
    "order = [0,1,2,3]"
   ]
  },
  {
   "cell_type": "code",
   "execution_count": 32,
   "id": "bb30ddf3",
   "metadata": {},
   "outputs": [],
   "source": [
    "\n",
    "x0 = x_arr[order[0]]\n",
    "x1 = x_arr[order[1]]\n",
    "x2 = x_arr[order[2]]\n",
    "x3 = x_arr[order[3]]\n",
    "\n",
    "y0 = y_arr[order[0]]\n",
    "y1 = y_arr[order[1]]\n",
    "y2 = y_arr[order[2]]\n",
    "y3 = y_arr[order[3]]\n",
    "\n",
    "z0 = z_arr[order[0]]\n",
    "z1 = z_arr[order[1]]\n",
    "z2 = z_arr[order[2]]\n",
    "z3 = z_arr[order[3]]\n"
   ]
  },
  {
   "cell_type": "code",
   "execution_count": 33,
   "id": "a079ea51",
   "metadata": {},
   "outputs": [],
   "source": [
    "J = np.array(\n",
    "    [\n",
    "        [x1-x0, y1-y0, z1-z0],\n",
    "        [x2-x0, y2-y0, z2-z0],\n",
    "        [x3-x0, y3-y0, z3-z0]\n",
    "    ]\n",
    ")"
   ]
  },
  {
   "cell_type": "code",
   "execution_count": 34,
   "id": "e419ef23",
   "metadata": {},
   "outputs": [],
   "source": [
    "refbasis = np.array(\n",
    "    [\n",
    "        [-1, 1,0,0],\n",
    "        [-1, 0, 1, 0],\n",
    "        [-1,0,0,1]\n",
    "    ]\n",
    ")"
   ]
  },
  {
   "cell_type": "code",
   "execution_count": 35,
   "id": "d9546492",
   "metadata": {},
   "outputs": [],
   "source": [
    "Jinv = np.linalg.inv(J)\n",
    "Jdet = np.linalg.det(J)"
   ]
  },
  {
   "cell_type": "code",
   "execution_count": 36,
   "id": "1f16b3da",
   "metadata": {},
   "outputs": [],
   "source": [
    "Jadj = Jinv * Jdet "
   ]
  },
  {
   "cell_type": "code",
   "execution_count": 37,
   "id": "d277c425",
   "metadata": {},
   "outputs": [
    {
     "data": {
      "text/plain": [
       "array([[-0.00097656,  0.        ,  0.00195313],\n",
       "       [-0.00097656,  0.00195313,  0.        ],\n",
       "       [-0.00097656, -0.        , -0.        ]])"
      ]
     },
     "execution_count": 37,
     "metadata": {},
     "output_type": "execute_result"
    }
   ],
   "source": [
    "Jadj "
   ]
  },
  {
   "cell_type": "code",
   "execution_count": 38,
   "id": "a86c6888",
   "metadata": {},
   "outputs": [
    {
     "data": {
      "text/plain": [
       "array([[ 16.,  -0., -32.],\n",
       "       [ 16., -32.,  -0.],\n",
       "       [ 16.,   0.,   0.]])"
      ]
     },
     "execution_count": 38,
     "metadata": {},
     "output_type": "execute_result"
    }
   ],
   "source": [
    "Jinv "
   ]
  },
  {
   "cell_type": "code",
   "execution_count": 39,
   "id": "ecaeac01",
   "metadata": {},
   "outputs": [],
   "source": [
    "substiff = np.transpose((Jadj @ refbasis)) @ (Jadj @ refbasis) / (Jdet * 6) "
   ]
  },
  {
   "cell_type": "code",
   "execution_count": 40,
   "id": "8ff5d042",
   "metadata": {},
   "outputs": [],
   "source": [
    "substiff = substiff"
   ]
  },
  {
   "cell_type": "code",
   "execution_count": 41,
   "id": "a9a0bf49",
   "metadata": {},
   "outputs": [
    {
     "data": {
      "text/plain": [
       "array([[-0.0078125 , -0.00260417,  0.00520833,  0.00520833],\n",
       "       [-0.00260417, -0.0078125 ,  0.00520833,  0.00520833],\n",
       "       [ 0.00520833,  0.00520833, -0.01041667, -0.        ],\n",
       "       [ 0.00520833,  0.00520833, -0.        , -0.01041667]])"
      ]
     },
     "execution_count": 41,
     "metadata": {},
     "output_type": "execute_result"
    }
   ],
   "source": [
    "substiff "
   ]
  },
  {
   "cell_type": "code",
   "execution_count": 42,
   "id": "6cb17567",
   "metadata": {},
   "outputs": [
    {
     "ename": "LinAlgError",
     "evalue": "Singular matrix",
     "output_type": "error",
     "traceback": [
      "\u001b[0;31m---------------------------------------------------------------------------\u001b[0m",
      "\u001b[0;31mLinAlgError\u001b[0m                               Traceback (most recent call last)",
      "Cell \u001b[0;32mIn [42], line 1\u001b[0m\n\u001b[0;32m----> 1\u001b[0m \u001b[43mnp\u001b[49m\u001b[38;5;241;43m.\u001b[39;49m\u001b[43mlinalg\u001b[49m\u001b[38;5;241;43m.\u001b[39;49m\u001b[43minv\u001b[49m\u001b[43m(\u001b[49m\u001b[43msubstiff\u001b[49m\u001b[43m)\u001b[49m\n",
      "File \u001b[0;32m<__array_function__ internals>:180\u001b[0m, in \u001b[0;36minv\u001b[0;34m(*args, **kwargs)\u001b[0m\n",
      "File \u001b[0;32m~/miniconda3/envs/pytorch/lib/python3.10/site-packages/numpy/linalg/linalg.py:552\u001b[0m, in \u001b[0;36minv\u001b[0;34m(a)\u001b[0m\n\u001b[1;32m    550\u001b[0m signature \u001b[38;5;241m=\u001b[39m \u001b[38;5;124m'\u001b[39m\u001b[38;5;124mD->D\u001b[39m\u001b[38;5;124m'\u001b[39m \u001b[38;5;28;01mif\u001b[39;00m isComplexType(t) \u001b[38;5;28;01melse\u001b[39;00m \u001b[38;5;124m'\u001b[39m\u001b[38;5;124md->d\u001b[39m\u001b[38;5;124m'\u001b[39m\n\u001b[1;32m    551\u001b[0m extobj \u001b[38;5;241m=\u001b[39m get_linalg_error_extobj(_raise_linalgerror_singular)\n\u001b[0;32m--> 552\u001b[0m ainv \u001b[38;5;241m=\u001b[39m \u001b[43m_umath_linalg\u001b[49m\u001b[38;5;241;43m.\u001b[39;49m\u001b[43minv\u001b[49m\u001b[43m(\u001b[49m\u001b[43ma\u001b[49m\u001b[43m,\u001b[49m\u001b[43m \u001b[49m\u001b[43msignature\u001b[49m\u001b[38;5;241;43m=\u001b[39;49m\u001b[43msignature\u001b[49m\u001b[43m,\u001b[49m\u001b[43m \u001b[49m\u001b[43mextobj\u001b[49m\u001b[38;5;241;43m=\u001b[39;49m\u001b[43mextobj\u001b[49m\u001b[43m)\u001b[49m\n\u001b[1;32m    553\u001b[0m \u001b[38;5;28;01mreturn\u001b[39;00m wrap(ainv\u001b[38;5;241m.\u001b[39mastype(result_t, copy\u001b[38;5;241m=\u001b[39m\u001b[38;5;28;01mFalse\u001b[39;00m))\n",
      "File \u001b[0;32m~/miniconda3/envs/pytorch/lib/python3.10/site-packages/numpy/linalg/linalg.py:89\u001b[0m, in \u001b[0;36m_raise_linalgerror_singular\u001b[0;34m(err, flag)\u001b[0m\n\u001b[1;32m     88\u001b[0m \u001b[38;5;28;01mdef\u001b[39;00m \u001b[38;5;21m_raise_linalgerror_singular\u001b[39m(err, flag):\n\u001b[0;32m---> 89\u001b[0m     \u001b[38;5;28;01mraise\u001b[39;00m LinAlgError(\u001b[38;5;124m\"\u001b[39m\u001b[38;5;124mSingular matrix\u001b[39m\u001b[38;5;124m\"\u001b[39m)\n",
      "\u001b[0;31mLinAlgError\u001b[0m: Singular matrix"
     ]
    }
   ],
   "source": [
    "np.linalg.inv(substiff)"
   ]
  },
  {
   "cell_type": "code",
   "execution_count": null,
   "id": "1e5c0f36",
   "metadata": {},
   "outputs": [],
   "source": []
  },
  {
   "cell_type": "code",
   "execution_count": null,
   "id": "18277cd5",
   "metadata": {},
   "outputs": [],
   "source": []
  }
 ],
 "metadata": {
  "kernelspec": {
   "display_name": "pytorch",
   "language": "python",
   "name": "python3"
  },
  "language_info": {
   "codemirror_mode": {
    "name": "ipython",
    "version": 3
   },
   "file_extension": ".py",
   "mimetype": "text/x-python",
   "name": "python",
   "nbconvert_exporter": "python",
   "pygments_lexer": "ipython3",
   "version": "3.10.6"
  }
 },
 "nbformat": 4,
 "nbformat_minor": 5
}
